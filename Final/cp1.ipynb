{
  "nbformat": 4,
  "nbformat_minor": 0,
  "metadata": {
    "colab": {
      "provenance": []
    },
    "kernelspec": {
      "name": "python3",
      "display_name": "Python 3"
    },
    "language_info": {
      "name": "python"
    }
  },
  "cells": [
    {
      "cell_type": "code",
      "execution_count": 1,
      "metadata": {
        "id": "bW_oT379W_WM"
      },
      "outputs": [],
      "source": [
        "import tensorflow as tf\n",
        "from tensorflow import keras\n",
        "from tensorflow.keras import layers\n",
        "from tensorflow.keras.datasets import mnist\n",
        "import matplotlib.pyplot as plt"
      ]
    },
    {
      "cell_type": "code",
      "source": [
        "(x_train, y_train), (x_test, y_test) = mnist.load_data()"
      ],
      "metadata": {
        "colab": {
          "base_uri": "https://localhost:8080/"
        },
        "id": "TRD_8rboXM2y",
        "outputId": "17bf2c66-eea2-41b0-8fe0-b3aeca859ccd"
      },
      "execution_count": 2,
      "outputs": [
        {
          "output_type": "stream",
          "name": "stdout",
          "text": [
            "Downloading data from https://storage.googleapis.com/tensorflow/tf-keras-datasets/mnist.npz\n",
            "11490434/11490434 [==============================] - 0s 0us/step\n"
          ]
        }
      ]
    },
    {
      "cell_type": "code",
      "source": [
        "x_train = x_train.astype(\"float32\") / 255.0\n",
        "x_test = x_test.astype(\"float32\") / 255.0"
      ],
      "metadata": {
        "id": "he5iX8JpXekz"
      },
      "execution_count": 3,
      "outputs": []
    },
    {
      "cell_type": "code",
      "source": [
        "x_train = x_train.reshape(-1, 28, 28, 1)\n",
        "x_test = x_test.reshape(-1, 28, 28, 1)"
      ],
      "metadata": {
        "id": "tptIYeOyXi6b"
      },
      "execution_count": 4,
      "outputs": []
    },
    {
      "cell_type": "code",
      "source": [
        "model = keras.Sequential(\n",
        "    [\n",
        "        layers.Conv2D(32,(3,3), activation=\"relu\", input_shape=(28,28,1)),\n",
        "        layers.MaxPooling2D(pool_size=(2,2)),\n",
        "        layers.Conv2D(64,(3,3), activation=\"relu\"),\n",
        "        layers.MaxPooling2D(pool_size=(2,2)),\n",
        "        layers.Flatten(),\n",
        "        layers.Dense(128, activation=\"relu\"),\n",
        "        layers.Dense(10, activation=\"softmax\"),\n",
        "    ]\n",
        ")"
      ],
      "metadata": {
        "id": "UvUp_kVEXld-"
      },
      "execution_count": 5,
      "outputs": []
    },
    {
      "cell_type": "code",
      "source": [
        "model.compile(\n",
        "    loss=\"sparse_categorical_crossentropy\",\n",
        "    optimizer=\"sgd\",\n",
        "    metrics=[\"accuracy\"],\n",
        ")"
      ],
      "metadata": {
        "id": "jWXMv-cxXodp"
      },
      "execution_count": 6,
      "outputs": []
    },
    {
      "cell_type": "code",
      "source": [
        "history_sgd = model.fit(x_train, y_train, epochs=10, validation_split=0.1)"
      ],
      "metadata": {
        "colab": {
          "base_uri": "https://localhost:8080/"
        },
        "id": "l_yKZvdkXqKr",
        "outputId": "71a6d672-5a86-4eb3-c9e1-de8cb030131d"
      },
      "execution_count": 7,
      "outputs": [
        {
          "output_type": "stream",
          "name": "stdout",
          "text": [
            "Epoch 1/10\n",
            "1688/1688 [==============================] - 53s 31ms/step - loss: 0.5452 - accuracy: 0.8398 - val_loss: 0.1772 - val_accuracy: 0.9465\n",
            "Epoch 2/10\n",
            "1688/1688 [==============================] - 52s 31ms/step - loss: 0.1485 - accuracy: 0.9549 - val_loss: 0.0964 - val_accuracy: 0.9733\n",
            "Epoch 3/10\n",
            "1688/1688 [==============================] - 51s 30ms/step - loss: 0.1021 - accuracy: 0.9680 - val_loss: 0.0847 - val_accuracy: 0.9757\n",
            "Epoch 4/10\n",
            "1688/1688 [==============================] - 51s 30ms/step - loss: 0.0829 - accuracy: 0.9738 - val_loss: 0.0689 - val_accuracy: 0.9807\n",
            "Epoch 5/10\n",
            "1688/1688 [==============================] - 52s 31ms/step - loss: 0.0703 - accuracy: 0.9780 - val_loss: 0.0623 - val_accuracy: 0.9847\n",
            "Epoch 6/10\n",
            "1688/1688 [==============================] - 54s 32ms/step - loss: 0.0622 - accuracy: 0.9805 - val_loss: 0.0632 - val_accuracy: 0.9813\n",
            "Epoch 7/10\n",
            "1688/1688 [==============================] - 51s 31ms/step - loss: 0.0558 - accuracy: 0.9830 - val_loss: 0.0720 - val_accuracy: 0.9782\n",
            "Epoch 8/10\n",
            "1688/1688 [==============================] - 52s 31ms/step - loss: 0.0498 - accuracy: 0.9846 - val_loss: 0.0808 - val_accuracy: 0.9775\n",
            "Epoch 9/10\n",
            "1688/1688 [==============================] - 52s 31ms/step - loss: 0.0456 - accuracy: 0.9855 - val_loss: 0.0519 - val_accuracy: 0.9862\n",
            "Epoch 10/10\n",
            "1688/1688 [==============================] - 52s 31ms/step - loss: 0.0414 - accuracy: 0.9874 - val_loss: 0.0517 - val_accuracy: 0.9873\n"
          ]
        }
      ]
    },
    {
      "cell_type": "code",
      "source": [
        "model_adam = keras.Sequential(\n",
        "    [\n",
        "        layers.Conv2D(32,(3,3), activation=\"relu\", input_shape=(28,28,1)),\n",
        "        layers.MaxPooling2D(pool_size=(2,2)),\n",
        "        layers.Conv2D(64,(3,3), activation=\"relu\"),\n",
        "        layers.MaxPooling2D(pool_size=(2,2)),\n",
        "        layers.Flatten(),\n",
        "        layers.Dense(128, activation=\"relu\"),\n",
        "        layers.Dense(10, activation=\"softmax\"),\n",
        "    ]\n",
        ")"
      ],
      "metadata": {
        "id": "58cYQ_jNZ308"
      },
      "execution_count": 8,
      "outputs": []
    },
    {
      "cell_type": "code",
      "source": [
        "model_adam.compile(\n",
        "    loss=\"sparse_categorical_crossentropy\",\n",
        "    optimizer=\"adam\",\n",
        "    metrics=[\"accuracy\"],\n",
        ")\n"
      ],
      "metadata": {
        "id": "WGYGObA2aB8C"
      },
      "execution_count": 9,
      "outputs": []
    },
    {
      "cell_type": "code",
      "source": [
        "history_adam = model_adam.fit(x_train, y_train, epochs=10, validation_split=0.1)\n"
      ],
      "metadata": {
        "colab": {
          "base_uri": "https://localhost:8080/"
        },
        "id": "-rYOwhPFaE-k",
        "outputId": "1d990753-2977-4676-de7b-183fe16ab74b"
      },
      "execution_count": 10,
      "outputs": [
        {
          "output_type": "stream",
          "name": "stdout",
          "text": [
            "Epoch 1/10\n",
            "1688/1688 [==============================] - 57s 33ms/step - loss: 0.1390 - accuracy: 0.9575 - val_loss: 0.0469 - val_accuracy: 0.9858\n",
            "Epoch 2/10\n",
            "1688/1688 [==============================] - 52s 31ms/step - loss: 0.0452 - accuracy: 0.9861 - val_loss: 0.0385 - val_accuracy: 0.9895\n",
            "Epoch 3/10\n",
            "1688/1688 [==============================] - 52s 31ms/step - loss: 0.0308 - accuracy: 0.9904 - val_loss: 0.0409 - val_accuracy: 0.9883\n",
            "Epoch 4/10\n",
            "1688/1688 [==============================] - 52s 31ms/step - loss: 0.0216 - accuracy: 0.9932 - val_loss: 0.0437 - val_accuracy: 0.9888\n",
            "Epoch 5/10\n",
            "1688/1688 [==============================] - 52s 31ms/step - loss: 0.0166 - accuracy: 0.9946 - val_loss: 0.0416 - val_accuracy: 0.9898\n",
            "Epoch 6/10\n",
            "1688/1688 [==============================] - 52s 31ms/step - loss: 0.0127 - accuracy: 0.9961 - val_loss: 0.0401 - val_accuracy: 0.9902\n",
            "Epoch 7/10\n",
            "1688/1688 [==============================] - 52s 31ms/step - loss: 0.0100 - accuracy: 0.9964 - val_loss: 0.0465 - val_accuracy: 0.9912\n",
            "Epoch 8/10\n",
            "1688/1688 [==============================] - 52s 31ms/step - loss: 0.0080 - accuracy: 0.9972 - val_loss: 0.0462 - val_accuracy: 0.9902\n",
            "Epoch 9/10\n",
            "1688/1688 [==============================] - 53s 32ms/step - loss: 0.0074 - accuracy: 0.9973 - val_loss: 0.0467 - val_accuracy: 0.9908\n",
            "Epoch 10/10\n",
            "1688/1688 [==============================] - 52s 31ms/step - loss: 0.0069 - accuracy: 0.9976 - val_loss: 0.0568 - val_accuracy: 0.9892\n"
          ]
        }
      ]
    },
    {
      "cell_type": "code",
      "source": [
        "model_rmsprop = keras.Sequential(\n",
        "    [\n",
        "        layers.Conv2D(32,(3,3), activation=\"relu\", input_shape=(28,28,1)),\n",
        "        layers.MaxPooling2D(pool_size=(2,2)),\n",
        "        layers.Conv2D(64,(3,3), activation=\"relu\"),\n",
        "        layers.MaxPooling2D(pool_size=(2, 2)),\n",
        "        layers.Flatten(),\n",
        "        layers.Dense(128, activation=\"relu\"),\n",
        "        layers.Dense(10, activation=\"softmax\"),\n",
        "    ]\n",
        ")"
      ],
      "metadata": {
        "id": "E8EasGJPds1z"
      },
      "execution_count": 11,
      "outputs": []
    },
    {
      "cell_type": "code",
      "source": [
        "model_rmsprop.compile(\n",
        "    loss=\"sparse_categorical_crossentropy\",\n",
        "    optimizer=\"rmsprop\",\n",
        "    metrics=[\"accuracy\"],\n",
        ")"
      ],
      "metadata": {
        "id": "wO69fyDxdwRT"
      },
      "execution_count": 12,
      "outputs": []
    },
    {
      "cell_type": "code",
      "source": [
        "history_rmsprop = model_rmsprop.fit(x_train, y_train, epochs=10, validation_split=0.1)"
      ],
      "metadata": {
        "colab": {
          "base_uri": "https://localhost:8080/"
        },
        "id": "qBHvrvqRd0Ra",
        "outputId": "bf5da30e-5ee8-4c91-965a-02d43ec6b915"
      },
      "execution_count": 13,
      "outputs": [
        {
          "output_type": "stream",
          "name": "stdout",
          "text": [
            "Epoch 1/10\n",
            "1688/1688 [==============================] - 54s 32ms/step - loss: 0.1371 - accuracy: 0.9562 - val_loss: 0.0547 - val_accuracy: 0.9847\n",
            "Epoch 2/10\n",
            "1688/1688 [==============================] - 52s 31ms/step - loss: 0.0460 - accuracy: 0.9857 - val_loss: 0.0375 - val_accuracy: 0.9905\n",
            "Epoch 3/10\n",
            "1688/1688 [==============================] - 53s 32ms/step - loss: 0.0309 - accuracy: 0.9907 - val_loss: 0.0403 - val_accuracy: 0.9898\n",
            "Epoch 4/10\n",
            "1688/1688 [==============================] - 52s 31ms/step - loss: 0.0236 - accuracy: 0.9928 - val_loss: 0.0360 - val_accuracy: 0.9910\n",
            "Epoch 5/10\n",
            "1688/1688 [==============================] - 52s 31ms/step - loss: 0.0179 - accuracy: 0.9944 - val_loss: 0.0389 - val_accuracy: 0.9910\n",
            "Epoch 6/10\n",
            "1688/1688 [==============================] - 52s 31ms/step - loss: 0.0140 - accuracy: 0.9954 - val_loss: 0.0372 - val_accuracy: 0.9913\n",
            "Epoch 7/10\n",
            "1688/1688 [==============================] - 52s 31ms/step - loss: 0.0110 - accuracy: 0.9970 - val_loss: 0.0531 - val_accuracy: 0.9898\n",
            "Epoch 8/10\n",
            "1688/1688 [==============================] - 52s 31ms/step - loss: 0.0092 - accuracy: 0.9972 - val_loss: 0.0466 - val_accuracy: 0.9913\n",
            "Epoch 9/10\n",
            "1688/1688 [==============================] - 52s 31ms/step - loss: 0.0070 - accuracy: 0.9978 - val_loss: 0.0477 - val_accuracy: 0.9917\n",
            "Epoch 10/10\n",
            "1688/1688 [==============================] - 53s 31ms/step - loss: 0.0046 - accuracy: 0.9984 - val_loss: 0.0788 - val_accuracy: 0.9892\n"
          ]
        }
      ]
    },
    {
      "cell_type": "code",
      "source": [
        "plt.plot(history_sgd.history[\"accuracy\"])\n",
        "plt.plot(history_adam.history[\"accuracy\"])\n",
        "plt.plot(history_rmsprop.history[\"accuracy\"])\n",
        "plt.title(\"Model Accuracy\")\n",
        "plt.ylabel(\"Accuracy\")\n",
        "plt.xlabel(\"Epoch\")\n",
        "plt.legend([\"SGD\", \"ADAM\", \"RMSProp\"], loc=\"upper left\")\n",
        "plt.show()\n",
        "\n",
        "plt.plot(history_sgd.history[\"val_accuracy\"])\n",
        "plt.plot(history_adam.history[\"val_accuracy\"])\n",
        "plt.plot(history_rmsprop.history[\"val_accuracy\"])\n",
        "plt.title(\"Model Validation Accuracy\")\n",
        "plt.ylabel(\"Accuracy\")\n",
        "plt.xlabel(\"Epoch\")\n",
        "plt.legend([\"SGD\", \"ADAM\", \"RMSProp\"], loc=\"upper left\")\n",
        "plt.show()"
      ],
      "metadata": {
        "colab": {
          "base_uri": "https://localhost:8080/",
          "height": 573
        },
        "id": "McxnCUFSnRCb",
        "outputId": "d352a89a-f261-4b92-d87f-724632a888ac"
      },
      "execution_count": 14,
      "outputs": [
        {
          "output_type": "display_data",
          "data": {
            "text/plain": [
              "<Figure size 432x288 with 1 Axes>"
            ],
            "image/png": "[encoded data removed]"
          },
          "metadata": {
            "needs_background": "light"
          }
        },
        {
          "output_type": "display_data",
          "data": {
            "text/plain": [
              "<Figure size 432x288 with 1 Axes>"
            ],
            "image/png": "[encoded data removed]"
          },
          "metadata": {
            "needs_background": "light"
          }
        }
      ]
    }
  ]
}